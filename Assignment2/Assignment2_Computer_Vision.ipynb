{
  "nbformat": 4,
  "nbformat_minor": 0,
  "metadata": {
    "colab": {
      "provenance": [],
      "authorship_tag": "ABX9TyPo+6CUZhiPFV7gA00bWrtM",
      "include_colab_link": true
    },
    "kernelspec": {
      "name": "python3",
      "display_name": "Python 3"
    },
    "language_info": {
      "name": "python"
    }
  },
  "cells": [
    {
      "cell_type": "markdown",
      "metadata": {
        "id": "view-in-github",
        "colab_type": "text"
      },
      "source": [
        "<a href=\"https://colab.research.google.com/github/Chuwei-Chen/SIMM61-LabReports/blob/main/Assignment2/Assignment2_Computer_Vision.ipynb\" target=\"_parent\"><img src=\"https://colab.research.google.com/assets/colab-badge.svg\" alt=\"Open In Colab\"/></a>"
      ]
    },
    {
      "cell_type": "markdown",
      "source": [
        "**Computer Vision Analysis of \"Memotion\": Internet Memes**\n",
        "\n",
        "*   Name:Chuwei Chen\n",
        "*   Course: SIMM71\n",
        "*   Date: 12/02/2023\n",
        "*   Environment: Google Colab\n",
        "* Github link:https://github.com/Chuwei-Chen/SIMM71/tree/main/Assignment2\n"
      ],
      "metadata": {
        "id": "pAfWTqsrJX4y"
      }
    },
    {
      "cell_type": "markdown",
      "source": [
        "#Introduction\n"
      ],
      "metadata": {
        "id": "rFaL9wJ9NGd6"
      }
    },
    {
      "cell_type": "markdown",
      "source": [
        "##Background\n",
        "\"Internet memes\" is commonly refer to the propagation of content such as jokes, humor, viral images and videos on the internet(Shifman, 2013). The rapid production, consumption, and dissemination of internet memes among users plays a significant role in understanding digital culture and the essence of Web 2.0. In the social science context, most efforts of memes studies focus on semiotics and visual analysis of memes within specific domains, while in computer science, the emphasis is placed on large-scale classification and identification(Courtois & Frissen, 2022). The computer-aided analytical methods for image data can utilize computer vision algorithms(Szeliski, 2022). The initiative of this project aims to integrate computer vision technology and internet memes as a starting point, which explores the possible research practice in digital culture."
      ],
      "metadata": {
        "id": "3gjhAsM93u1j"
      }
    },
    {
      "cell_type": "markdown",
      "source": [
        "##Dataset and Methodology\n",
        "The dataset in this project is sampled from the main dataset \"Memotion Dataset 7k\" from Kaggle(https://www.kaggle.com/datasets/williamscott701/memotion-dataset-7k). \"Memotion Dataset\" contains 7000 internet memes aims to detect the emotions of memes. Each meme was annotated with tags of sentiment, and type of humor, sarcastic, humorous, or offensive(Williams et al., 2021).\n",
        "\n",
        "This project filters the memes according to the sentiment category and sampled 30 memes from each category, namely negative, neutral and positive. The target of this project is to perform exploratory and descriptive analysis across different memes sentiments.\n",
        "\n",
        "The project will perform text detection to extract the text content in each meme. This is because memes are usually created by adding texts on a certain images. Secondly, the project apply object detection models and visualize the object components in each memes category."
      ],
      "metadata": {
        "id": "iigV0bV63vlj"
      }
    },
    {
      "cell_type": "markdown",
      "source": [
        "# Libraies Loading"
      ],
      "metadata": {
        "id": "npZVtYZINMSz"
      }
    },
    {
      "cell_type": "code",
      "source": [
        "!pip install -q opencv-python\n",
        "import numpy as np\n",
        "from skimage import data\n",
        "import cv2"
      ],
      "metadata": {
        "id": "yCTnE3xMnRpR"
      },
      "execution_count": 1,
      "outputs": []
    },
    {
      "cell_type": "markdown",
      "source": [
        "# Dataset import"
      ],
      "metadata": {
        "id": "rw8dR3YWNSAT"
      }
    },
    {
      "cell_type": "markdown",
      "source": [
        "I have reclassifed the sentiment categories, merging \"positive\" and \"very positive\" into one label of \"positive\"; \"negative\" and \"very negative\" into one label of \"negative\". To obtain 30 sample memes from each category, I used the built-in random sampling tools in Excel and result in a total of 90 images."
      ],
      "metadata": {
        "id": "XPRScZ5did-0"
      }
    },
    {
      "cell_type": "code",
      "source": [
        "# load the memes data from my github seperately(negative memes, neutral memes and positive memes)\n",
        "import pandas as pd\n",
        "\n",
        "column_name=['image_url'] #define the column name\n",
        "\n",
        "#import negative memes data\n",
        "neg_url = \"https://raw.githubusercontent.com/Chuwei-Chen/SIMM71/main/Assignment2/dataset/negative/negative_memes.tsv\"\n",
        "neg_df = pd.read_csv(neg_url, sep=\"\\t\", header=None, names=column_name)\n",
        "\n",
        "\n",
        "#import neutral memes data\n",
        "neu_url = \"https://raw.githubusercontent.com/Chuwei-Chen/SIMM71/main/Assignment2/dataset/neutral/neutral_memes.tsv\"\n",
        "neu_df = pd.read_csv(neu_url, sep=\"\\t\", header=None, names=column_name)\n",
        "\n",
        "\n",
        "#import positive memes data\n",
        "pos_url = \"https://raw.githubusercontent.com/Chuwei-Chen/SIMM71/main/Assignment2/dataset/positive/positive_memes.tsv\"\n",
        "pos_df = pd.read_csv(pos_url, sep=\"\\t\", header=None, names=column_name)\n"
      ],
      "metadata": {
        "id": "324fzbQWo82C"
      },
      "execution_count": 2,
      "outputs": []
    },
    {
      "cell_type": "code",
      "source": [
        "neg_df.head(3)  #display negative memes urls"
      ],
      "metadata": {
        "colab": {
          "base_uri": "https://localhost:8080/",
          "height": 143
        },
        "id": "DhuRH5pom7Vr",
        "outputId": "513bdd30-7db3-4389-ac58-f12a9278cb96"
      },
      "execution_count": 3,
      "outputs": [
        {
          "output_type": "execute_result",
          "data": {
            "text/plain": [
              "                                           image_url\n",
              "0  https://raw.githubusercontent.com/Chuwei-Chen/...\n",
              "1  https://raw.githubusercontent.com/Chuwei-Chen/...\n",
              "2  https://raw.githubusercontent.com/Chuwei-Chen/..."
            ],
            "text/html": [
              "\n",
              "  <div id=\"df-3459032a-8442-46ba-abad-d996a17f8050\">\n",
              "    <div class=\"colab-df-container\">\n",
              "      <div>\n",
              "<style scoped>\n",
              "    .dataframe tbody tr th:only-of-type {\n",
              "        vertical-align: middle;\n",
              "    }\n",
              "\n",
              "    .dataframe tbody tr th {\n",
              "        vertical-align: top;\n",
              "    }\n",
              "\n",
              "    .dataframe thead th {\n",
              "        text-align: right;\n",
              "    }\n",
              "</style>\n",
              "<table border=\"1\" class=\"dataframe\">\n",
              "  <thead>\n",
              "    <tr style=\"text-align: right;\">\n",
              "      <th></th>\n",
              "      <th>image_url</th>\n",
              "    </tr>\n",
              "  </thead>\n",
              "  <tbody>\n",
              "    <tr>\n",
              "      <th>0</th>\n",
              "      <td>https://raw.githubusercontent.com/Chuwei-Chen/...</td>\n",
              "    </tr>\n",
              "    <tr>\n",
              "      <th>1</th>\n",
              "      <td>https://raw.githubusercontent.com/Chuwei-Chen/...</td>\n",
              "    </tr>\n",
              "    <tr>\n",
              "      <th>2</th>\n",
              "      <td>https://raw.githubusercontent.com/Chuwei-Chen/...</td>\n",
              "    </tr>\n",
              "  </tbody>\n",
              "</table>\n",
              "</div>\n",
              "      <button class=\"colab-df-convert\" onclick=\"convertToInteractive('df-3459032a-8442-46ba-abad-d996a17f8050')\"\n",
              "              title=\"Convert this dataframe to an interactive table.\"\n",
              "              style=\"display:none;\">\n",
              "        \n",
              "  <svg xmlns=\"http://www.w3.org/2000/svg\" height=\"24px\"viewBox=\"0 0 24 24\"\n",
              "       width=\"24px\">\n",
              "    <path d=\"M0 0h24v24H0V0z\" fill=\"none\"/>\n",
              "    <path d=\"M18.56 5.44l.94 2.06.94-2.06 2.06-.94-2.06-.94-.94-2.06-.94 2.06-2.06.94zm-11 1L8.5 8.5l.94-2.06 2.06-.94-2.06-.94L8.5 2.5l-.94 2.06-2.06.94zm10 10l.94 2.06.94-2.06 2.06-.94-2.06-.94-.94-2.06-.94 2.06-2.06.94z\"/><path d=\"M17.41 7.96l-1.37-1.37c-.4-.4-.92-.59-1.43-.59-.52 0-1.04.2-1.43.59L10.3 9.45l-7.72 7.72c-.78.78-.78 2.05 0 2.83L4 21.41c.39.39.9.59 1.41.59.51 0 1.02-.2 1.41-.59l7.78-7.78 2.81-2.81c.8-.78.8-2.07 0-2.86zM5.41 20L4 18.59l7.72-7.72 1.47 1.35L5.41 20z\"/>\n",
              "  </svg>\n",
              "      </button>\n",
              "      \n",
              "  <style>\n",
              "    .colab-df-container {\n",
              "      display:flex;\n",
              "      flex-wrap:wrap;\n",
              "      gap: 12px;\n",
              "    }\n",
              "\n",
              "    .colab-df-convert {\n",
              "      background-color: #E8F0FE;\n",
              "      border: none;\n",
              "      border-radius: 50%;\n",
              "      cursor: pointer;\n",
              "      display: none;\n",
              "      fill: #1967D2;\n",
              "      height: 32px;\n",
              "      padding: 0 0 0 0;\n",
              "      width: 32px;\n",
              "    }\n",
              "\n",
              "    .colab-df-convert:hover {\n",
              "      background-color: #E2EBFA;\n",
              "      box-shadow: 0px 1px 2px rgba(60, 64, 67, 0.3), 0px 1px 3px 1px rgba(60, 64, 67, 0.15);\n",
              "      fill: #174EA6;\n",
              "    }\n",
              "\n",
              "    [theme=dark] .colab-df-convert {\n",
              "      background-color: #3B4455;\n",
              "      fill: #D2E3FC;\n",
              "    }\n",
              "\n",
              "    [theme=dark] .colab-df-convert:hover {\n",
              "      background-color: #434B5C;\n",
              "      box-shadow: 0px 1px 3px 1px rgba(0, 0, 0, 0.15);\n",
              "      filter: drop-shadow(0px 1px 2px rgba(0, 0, 0, 0.3));\n",
              "      fill: #FFFFFF;\n",
              "    }\n",
              "  </style>\n",
              "\n",
              "      <script>\n",
              "        const buttonEl =\n",
              "          document.querySelector('#df-3459032a-8442-46ba-abad-d996a17f8050 button.colab-df-convert');\n",
              "        buttonEl.style.display =\n",
              "          google.colab.kernel.accessAllowed ? 'block' : 'none';\n",
              "\n",
              "        async function convertToInteractive(key) {\n",
              "          const element = document.querySelector('#df-3459032a-8442-46ba-abad-d996a17f8050');\n",
              "          const dataTable =\n",
              "            await google.colab.kernel.invokeFunction('convertToInteractive',\n",
              "                                                     [key], {});\n",
              "          if (!dataTable) return;\n",
              "\n",
              "          const docLinkHtml = 'Like what you see? Visit the ' +\n",
              "            '<a target=\"_blank\" href=https://colab.research.google.com/notebooks/data_table.ipynb>data table notebook</a>'\n",
              "            + ' to learn more about interactive tables.';\n",
              "          element.innerHTML = '';\n",
              "          dataTable['output_type'] = 'display_data';\n",
              "          await google.colab.output.renderOutput(dataTable, element);\n",
              "          const docLink = document.createElement('div');\n",
              "          docLink.innerHTML = docLinkHtml;\n",
              "          element.appendChild(docLink);\n",
              "        }\n",
              "      </script>\n",
              "    </div>\n",
              "  </div>\n",
              "  "
            ]
          },
          "metadata": {},
          "execution_count": 3
        }
      ]
    },
    {
      "cell_type": "code",
      "source": [
        "neu_df.head(3)  #display neutral memes urls"
      ],
      "metadata": {
        "colab": {
          "base_uri": "https://localhost:8080/",
          "height": 143
        },
        "id": "bheKHKE9m7LT",
        "outputId": "9f56de07-9900-4d4b-c8ce-b774a4c2047e"
      },
      "execution_count": 4,
      "outputs": [
        {
          "output_type": "execute_result",
          "data": {
            "text/plain": [
              "                                           image_url\n",
              "0  https://raw.githubusercontent.com/Chuwei-Chen/...\n",
              "1  https://raw.githubusercontent.com/Chuwei-Chen/...\n",
              "2  https://raw.githubusercontent.com/Chuwei-Chen/..."
            ],
            "text/html": [
              "\n",
              "  <div id=\"df-1d50de30-3054-4acb-8339-5b9ff18e4bf0\">\n",
              "    <div class=\"colab-df-container\">\n",
              "      <div>\n",
              "<style scoped>\n",
              "    .dataframe tbody tr th:only-of-type {\n",
              "        vertical-align: middle;\n",
              "    }\n",
              "\n",
              "    .dataframe tbody tr th {\n",
              "        vertical-align: top;\n",
              "    }\n",
              "\n",
              "    .dataframe thead th {\n",
              "        text-align: right;\n",
              "    }\n",
              "</style>\n",
              "<table border=\"1\" class=\"dataframe\">\n",
              "  <thead>\n",
              "    <tr style=\"text-align: right;\">\n",
              "      <th></th>\n",
              "      <th>image_url</th>\n",
              "    </tr>\n",
              "  </thead>\n",
              "  <tbody>\n",
              "    <tr>\n",
              "      <th>0</th>\n",
              "      <td>https://raw.githubusercontent.com/Chuwei-Chen/...</td>\n",
              "    </tr>\n",
              "    <tr>\n",
              "      <th>1</th>\n",
              "      <td>https://raw.githubusercontent.com/Chuwei-Chen/...</td>\n",
              "    </tr>\n",
              "    <tr>\n",
              "      <th>2</th>\n",
              "      <td>https://raw.githubusercontent.com/Chuwei-Chen/...</td>\n",
              "    </tr>\n",
              "  </tbody>\n",
              "</table>\n",
              "</div>\n",
              "      <button class=\"colab-df-convert\" onclick=\"convertToInteractive('df-1d50de30-3054-4acb-8339-5b9ff18e4bf0')\"\n",
              "              title=\"Convert this dataframe to an interactive table.\"\n",
              "              style=\"display:none;\">\n",
              "        \n",
              "  <svg xmlns=\"http://www.w3.org/2000/svg\" height=\"24px\"viewBox=\"0 0 24 24\"\n",
              "       width=\"24px\">\n",
              "    <path d=\"M0 0h24v24H0V0z\" fill=\"none\"/>\n",
              "    <path d=\"M18.56 5.44l.94 2.06.94-2.06 2.06-.94-2.06-.94-.94-2.06-.94 2.06-2.06.94zm-11 1L8.5 8.5l.94-2.06 2.06-.94-2.06-.94L8.5 2.5l-.94 2.06-2.06.94zm10 10l.94 2.06.94-2.06 2.06-.94-2.06-.94-.94-2.06-.94 2.06-2.06.94z\"/><path d=\"M17.41 7.96l-1.37-1.37c-.4-.4-.92-.59-1.43-.59-.52 0-1.04.2-1.43.59L10.3 9.45l-7.72 7.72c-.78.78-.78 2.05 0 2.83L4 21.41c.39.39.9.59 1.41.59.51 0 1.02-.2 1.41-.59l7.78-7.78 2.81-2.81c.8-.78.8-2.07 0-2.86zM5.41 20L4 18.59l7.72-7.72 1.47 1.35L5.41 20z\"/>\n",
              "  </svg>\n",
              "      </button>\n",
              "      \n",
              "  <style>\n",
              "    .colab-df-container {\n",
              "      display:flex;\n",
              "      flex-wrap:wrap;\n",
              "      gap: 12px;\n",
              "    }\n",
              "\n",
              "    .colab-df-convert {\n",
              "      background-color: #E8F0FE;\n",
              "      border: none;\n",
              "      border-radius: 50%;\n",
              "      cursor: pointer;\n",
              "      display: none;\n",
              "      fill: #1967D2;\n",
              "      height: 32px;\n",
              "      padding: 0 0 0 0;\n",
              "      width: 32px;\n",
              "    }\n",
              "\n",
              "    .colab-df-convert:hover {\n",
              "      background-color: #E2EBFA;\n",
              "      box-shadow: 0px 1px 2px rgba(60, 64, 67, 0.3), 0px 1px 3px 1px rgba(60, 64, 67, 0.15);\n",
              "      fill: #174EA6;\n",
              "    }\n",
              "\n",
              "    [theme=dark] .colab-df-convert {\n",
              "      background-color: #3B4455;\n",
              "      fill: #D2E3FC;\n",
              "    }\n",
              "\n",
              "    [theme=dark] .colab-df-convert:hover {\n",
              "      background-color: #434B5C;\n",
              "      box-shadow: 0px 1px 3px 1px rgba(0, 0, 0, 0.15);\n",
              "      filter: drop-shadow(0px 1px 2px rgba(0, 0, 0, 0.3));\n",
              "      fill: #FFFFFF;\n",
              "    }\n",
              "  </style>\n",
              "\n",
              "      <script>\n",
              "        const buttonEl =\n",
              "          document.querySelector('#df-1d50de30-3054-4acb-8339-5b9ff18e4bf0 button.colab-df-convert');\n",
              "        buttonEl.style.display =\n",
              "          google.colab.kernel.accessAllowed ? 'block' : 'none';\n",
              "\n",
              "        async function convertToInteractive(key) {\n",
              "          const element = document.querySelector('#df-1d50de30-3054-4acb-8339-5b9ff18e4bf0');\n",
              "          const dataTable =\n",
              "            await google.colab.kernel.invokeFunction('convertToInteractive',\n",
              "                                                     [key], {});\n",
              "          if (!dataTable) return;\n",
              "\n",
              "          const docLinkHtml = 'Like what you see? Visit the ' +\n",
              "            '<a target=\"_blank\" href=https://colab.research.google.com/notebooks/data_table.ipynb>data table notebook</a>'\n",
              "            + ' to learn more about interactive tables.';\n",
              "          element.innerHTML = '';\n",
              "          dataTable['output_type'] = 'display_data';\n",
              "          await google.colab.output.renderOutput(dataTable, element);\n",
              "          const docLink = document.createElement('div');\n",
              "          docLink.innerHTML = docLinkHtml;\n",
              "          element.appendChild(docLink);\n",
              "        }\n",
              "      </script>\n",
              "    </div>\n",
              "  </div>\n",
              "  "
            ]
          },
          "metadata": {},
          "execution_count": 4
        }
      ]
    },
    {
      "cell_type": "code",
      "source": [
        "pos_df.head(3)  #display positive memes urls"
      ],
      "metadata": {
        "colab": {
          "base_uri": "https://localhost:8080/",
          "height": 143
        },
        "id": "JE5SmBcgm5-0",
        "outputId": "ed8adbe8-38de-437d-b082-128b489e62a2"
      },
      "execution_count": 5,
      "outputs": [
        {
          "output_type": "execute_result",
          "data": {
            "text/plain": [
              "                                           image_url\n",
              "0  https://raw.githubusercontent.com/Chuwei-Chen/...\n",
              "1  https://raw.githubusercontent.com/Chuwei-Chen/...\n",
              "2  https://raw.githubusercontent.com/Chuwei-Chen/..."
            ],
            "text/html": [
              "\n",
              "  <div id=\"df-e05bb7b4-86d1-4462-8c24-a8889534cc86\">\n",
              "    <div class=\"colab-df-container\">\n",
              "      <div>\n",
              "<style scoped>\n",
              "    .dataframe tbody tr th:only-of-type {\n",
              "        vertical-align: middle;\n",
              "    }\n",
              "\n",
              "    .dataframe tbody tr th {\n",
              "        vertical-align: top;\n",
              "    }\n",
              "\n",
              "    .dataframe thead th {\n",
              "        text-align: right;\n",
              "    }\n",
              "</style>\n",
              "<table border=\"1\" class=\"dataframe\">\n",
              "  <thead>\n",
              "    <tr style=\"text-align: right;\">\n",
              "      <th></th>\n",
              "      <th>image_url</th>\n",
              "    </tr>\n",
              "  </thead>\n",
              "  <tbody>\n",
              "    <tr>\n",
              "      <th>0</th>\n",
              "      <td>https://raw.githubusercontent.com/Chuwei-Chen/...</td>\n",
              "    </tr>\n",
              "    <tr>\n",
              "      <th>1</th>\n",
              "      <td>https://raw.githubusercontent.com/Chuwei-Chen/...</td>\n",
              "    </tr>\n",
              "    <tr>\n",
              "      <th>2</th>\n",
              "      <td>https://raw.githubusercontent.com/Chuwei-Chen/...</td>\n",
              "    </tr>\n",
              "  </tbody>\n",
              "</table>\n",
              "</div>\n",
              "      <button class=\"colab-df-convert\" onclick=\"convertToInteractive('df-e05bb7b4-86d1-4462-8c24-a8889534cc86')\"\n",
              "              title=\"Convert this dataframe to an interactive table.\"\n",
              "              style=\"display:none;\">\n",
              "        \n",
              "  <svg xmlns=\"http://www.w3.org/2000/svg\" height=\"24px\"viewBox=\"0 0 24 24\"\n",
              "       width=\"24px\">\n",
              "    <path d=\"M0 0h24v24H0V0z\" fill=\"none\"/>\n",
              "    <path d=\"M18.56 5.44l.94 2.06.94-2.06 2.06-.94-2.06-.94-.94-2.06-.94 2.06-2.06.94zm-11 1L8.5 8.5l.94-2.06 2.06-.94-2.06-.94L8.5 2.5l-.94 2.06-2.06.94zm10 10l.94 2.06.94-2.06 2.06-.94-2.06-.94-.94-2.06-.94 2.06-2.06.94z\"/><path d=\"M17.41 7.96l-1.37-1.37c-.4-.4-.92-.59-1.43-.59-.52 0-1.04.2-1.43.59L10.3 9.45l-7.72 7.72c-.78.78-.78 2.05 0 2.83L4 21.41c.39.39.9.59 1.41.59.51 0 1.02-.2 1.41-.59l7.78-7.78 2.81-2.81c.8-.78.8-2.07 0-2.86zM5.41 20L4 18.59l7.72-7.72 1.47 1.35L5.41 20z\"/>\n",
              "  </svg>\n",
              "      </button>\n",
              "      \n",
              "  <style>\n",
              "    .colab-df-container {\n",
              "      display:flex;\n",
              "      flex-wrap:wrap;\n",
              "      gap: 12px;\n",
              "    }\n",
              "\n",
              "    .colab-df-convert {\n",
              "      background-color: #E8F0FE;\n",
              "      border: none;\n",
              "      border-radius: 50%;\n",
              "      cursor: pointer;\n",
              "      display: none;\n",
              "      fill: #1967D2;\n",
              "      height: 32px;\n",
              "      padding: 0 0 0 0;\n",
              "      width: 32px;\n",
              "    }\n",
              "\n",
              "    .colab-df-convert:hover {\n",
              "      background-color: #E2EBFA;\n",
              "      box-shadow: 0px 1px 2px rgba(60, 64, 67, 0.3), 0px 1px 3px 1px rgba(60, 64, 67, 0.15);\n",
              "      fill: #174EA6;\n",
              "    }\n",
              "\n",
              "    [theme=dark] .colab-df-convert {\n",
              "      background-color: #3B4455;\n",
              "      fill: #D2E3FC;\n",
              "    }\n",
              "\n",
              "    [theme=dark] .colab-df-convert:hover {\n",
              "      background-color: #434B5C;\n",
              "      box-shadow: 0px 1px 3px 1px rgba(0, 0, 0, 0.15);\n",
              "      filter: drop-shadow(0px 1px 2px rgba(0, 0, 0, 0.3));\n",
              "      fill: #FFFFFF;\n",
              "    }\n",
              "  </style>\n",
              "\n",
              "      <script>\n",
              "        const buttonEl =\n",
              "          document.querySelector('#df-e05bb7b4-86d1-4462-8c24-a8889534cc86 button.colab-df-convert');\n",
              "        buttonEl.style.display =\n",
              "          google.colab.kernel.accessAllowed ? 'block' : 'none';\n",
              "\n",
              "        async function convertToInteractive(key) {\n",
              "          const element = document.querySelector('#df-e05bb7b4-86d1-4462-8c24-a8889534cc86');\n",
              "          const dataTable =\n",
              "            await google.colab.kernel.invokeFunction('convertToInteractive',\n",
              "                                                     [key], {});\n",
              "          if (!dataTable) return;\n",
              "\n",
              "          const docLinkHtml = 'Like what you see? Visit the ' +\n",
              "            '<a target=\"_blank\" href=https://colab.research.google.com/notebooks/data_table.ipynb>data table notebook</a>'\n",
              "            + ' to learn more about interactive tables.';\n",
              "          element.innerHTML = '';\n",
              "          dataTable['output_type'] = 'display_data';\n",
              "          await google.colab.output.renderOutput(dataTable, element);\n",
              "          const docLink = document.createElement('div');\n",
              "          docLink.innerHTML = docLinkHtml;\n",
              "          element.appendChild(docLink);\n",
              "        }\n",
              "      </script>\n",
              "    </div>\n",
              "  </div>\n",
              "  "
            ]
          },
          "metadata": {},
          "execution_count": 5
        }
      ]
    },
    {
      "cell_type": "markdown",
      "source": [
        "For the sake of subsequent analysis, I saved the image data locally in Google Colab in different files. The files can be found in the left bar of google colab notebook with the path of \"/content/negative_memes\" etc."
      ],
      "metadata": {
        "id": "UG8iT9OJotkG"
      }
    },
    {
      "cell_type": "code",
      "source": [
        "#save data from url to local\n",
        "import os\n",
        "import urllib.request\n",
        "\n",
        "# Save negative memes\n",
        "# Create a directory to save the images\n",
        "if not os.path.exists(\"negative_memes\"):\n",
        "    os.makedirs(\"negative_memes\")\n",
        "\n",
        "# Loop over each row in the negative memes dataframe\n",
        "for i, row in neg_df.iterrows():\n",
        "    # retrieve the URL for the image\n",
        "    url = row['image_url']\n",
        "    \n",
        "    # open the URL and retrieve the images\n",
        "    import urllib.request\n",
        "    response = urllib.request.urlopen(url)\n",
        "    \n",
        "    # Read the images into a variable\n",
        "    img = response.read()\n",
        "    \n",
        "    # Write the contents to a local file\n",
        "    with open(\"negative_memes/image_{}.jpg\".format(i), \"wb\") as f:\n",
        "        f.write(img)"
      ],
      "metadata": {
        "id": "03QOmyZRzhLp"
      },
      "execution_count": 6,
      "outputs": []
    },
    {
      "cell_type": "code",
      "source": [
        "#save neutral memes\n",
        "if not os.path.exists(\"neutral_memes\"):\n",
        "    os.makedirs(\"neutral_memes\")\n",
        "\n",
        "for i, row in neu_df.iterrows():\n",
        "    url = row['image_url']\n",
        "    \n",
        "    import urllib.request\n",
        "    response = urllib.request.urlopen(url)\n",
        "    \n",
        "    img = response.read()\n",
        "      \n",
        "    with open(\"neutral_memes/image_{}.jpg\".format(i), \"wb\") as f:\n",
        "        f.write(img)"
      ],
      "metadata": {
        "id": "ldE-NO2hpyVd"
      },
      "execution_count": 45,
      "outputs": []
    },
    {
      "cell_type": "code",
      "source": [
        "#save positive memes\n",
        "if not os.path.exists(\"positive_memes\"):\n",
        "    os.makedirs(\"positive_memes\")\n",
        "\n",
        "for i, row in pos_df.iterrows():    \n",
        "    url = row['image_url']    \n",
        "    \n",
        "    import urllib.request\n",
        "    response = urllib.request.urlopen(url)    \n",
        "    \n",
        "    img = response.read()    \n",
        "    \n",
        "    with open(\"positive_memes/image_{}.jpg\".format(i), \"wb\") as f:\n",
        "        f.write(img)"
      ],
      "metadata": {
        "id": "jdixX9aQqhbV"
      },
      "execution_count": 8,
      "outputs": []
    },
    {
      "cell_type": "markdown",
      "source": [
        "# Text Extraction"
      ],
      "metadata": {
        "id": "TxDajNrGNaRz"
      }
    },
    {
      "cell_type": "markdown",
      "source": [
        "Since each meme I collected from the dataset contains both textual and graphic elements, the project will first perform text extraction on each meme to evaluate the efficiency of the EasyOCR library."
      ],
      "metadata": {
        "id": "GwCsSlEJrPPX"
      }
    },
    {
      "cell_type": "code",
      "source": [
        "#load libraries\n",
        "from urllib.request import urlopen\n",
        "from PIL import Image\n",
        "import io"
      ],
      "metadata": {
        "id": "DcRbirCIWNlc"
      },
      "execution_count": 9,
      "outputs": []
    },
    {
      "cell_type": "code",
      "source": [
        "# install easyocr\n",
        "!pip install -q easyocr\n",
        "import easyocr\n",
        "\n",
        "reader = easyocr.Reader(['en'])\n",
        "\n",
        "# define a function to detect text in memes\n",
        "def detect_text_in_image(url):\n",
        "    # open the image\n",
        "    image = Image.open(urlopen(url))\n",
        "    \n",
        "    # convert the image to a numpy array\n",
        "    image = np.array(image)\n",
        "    \n",
        "    detected_text = reader.readtext(image)\n",
        "    \n",
        "    return detected_text\n"
      ],
      "metadata": {
        "colab": {
          "base_uri": "https://localhost:8080/"
        },
        "id": "fVcM5jZ7Wpz7",
        "outputId": "50af0d90-7f0f-4f88-9207-76a761b00299"
      },
      "execution_count": 10,
      "outputs": [
        {
          "output_type": "stream",
          "name": "stderr",
          "text": [
            "WARNING:easyocr.easyocr:CUDA not available - defaulting to CPU. Note: This module is much faster with a GPU.\n"
          ]
        }
      ]
    },
    {
      "cell_type": "code",
      "source": [
        "#Test on one image\n",
        "result = reader.readtext('negative_memes/image_0.jpg')\n",
        "result"
      ],
      "metadata": {
        "colab": {
          "base_uri": "https://localhost:8080/"
        },
        "id": "YBYMuPvLtIxy",
        "outputId": "be7f36d9-9b3b-4396-a9d6-81bca706f68d"
      },
      "execution_count": 11,
      "outputs": [
        {
          "output_type": "execute_result",
          "data": {
            "text/plain": [
              "[([[115, 3], [511, 3], [511, 39], [115, 39]],\n",
              "  'BABE_YOU JUST DONT GET IT; DO YA?',\n",
              "  0.6640799357446221)]"
            ]
          },
          "metadata": {},
          "execution_count": 11
        }
      ]
    },
    {
      "cell_type": "markdown",
      "source": [
        "![](https://raw.githubusercontent.com/Chuwei-Chen/SIMM71/main/Assignment2/dataset/negative/image_1087.jpg)\n",
        "\n",
        "It is clear that easyocr has successfully detected the texts in this particular meme \"BABE_YOU JUST DONT GET IT; DO YA?\".\n",
        "The number 0.66 is the condifence score, indicating that the algorithm is moderately confident in the accuracy of the text detection. However, upon inspection of the image by eyes, it is clear that the result is almost correct.\n"
      ],
      "metadata": {
        "id": "pgshZZhytxFe"
      }
    },
    {
      "cell_type": "markdown",
      "source": [
        "##Text detection for the whole sample dataset"
      ],
      "metadata": {
        "id": "XfvIrJKR7ZPu"
      }
    },
    {
      "cell_type": "code",
      "source": [
        "# apply the function to each row in the negative memes dataframe\n",
        "neg_df['detected_text'] = neg_df['image_url'].apply(detect_text_in_image)\n",
        "\n",
        "###this takes about 3 min"
      ],
      "metadata": {
        "id": "_XzKlozv14z9"
      },
      "execution_count": 12,
      "outputs": []
    },
    {
      "cell_type": "markdown",
      "source": [
        "To improve the readability of results, it is necessary to delete the coordinates and confidence score in the output and retain the texts only."
      ],
      "metadata": {
        "id": "AdmWIiPJ6QJD"
      }
    },
    {
      "cell_type": "code",
      "source": [
        "# save the dataframe to a csv file, eliminate the numbers and keep the text only\n",
        "import pandas as pd\n",
        "\n",
        "# define a function to extract the text content\n",
        "def extract_text(detected_text):\n",
        "    text = ''.join(str(e) for e in detected_text)\n",
        "    return ''.join(e for e in text if (e.isalpha() or e.isspace()))\n",
        "\n",
        "# apply the function to the text column\n",
        "neg_df['cleaned_text'] = neg_df['detected_text'].apply(extract_text)\n",
        "\n",
        "# drop the original 'detected_text' column\n",
        "neg_df.drop('detected_text', axis=1, inplace=True)\n",
        "\n",
        "# write the cleaned dataframe to a CSV file\n",
        "neg_df.to_csv(\"neg_text_detect.csv\", index=False)\n",
        "    \n",
        "neg_df.head(5)"
      ],
      "metadata": {
        "id": "16lKR-fVbLF-",
        "colab": {
          "base_uri": "https://localhost:8080/",
          "height": 206
        },
        "outputId": "762e0343-597b-468f-87a3-b3fbf55a4e3c"
      },
      "execution_count": 13,
      "outputs": [
        {
          "output_type": "execute_result",
          "data": {
            "text/plain": [
              "                                           image_url  \\\n",
              "0  https://raw.githubusercontent.com/Chuwei-Chen/...   \n",
              "1  https://raw.githubusercontent.com/Chuwei-Chen/...   \n",
              "2  https://raw.githubusercontent.com/Chuwei-Chen/...   \n",
              "3  https://raw.githubusercontent.com/Chuwei-Chen/...   \n",
              "4  https://raw.githubusercontent.com/Chuwei-Chen/...   \n",
              "\n",
              "                                        cleaned_text  \n",
              "0                    BABEYOU JUST DONT GET IT DO YA   \n",
              "1          Vex         dont crash the bordler    ...  \n",
              "2          WAIT YOURE HOW OLD         HAPPY BIRTH...  \n",
              "3          MY SEXY GIRLFRIEND         MAKES MESOO...  \n",
              "4          CONTRACT ON ME FROM         BABY GODFA...  "
            ],
            "text/html": [
              "\n",
              "  <div id=\"df-e4b32165-b5f3-4203-beb3-0b4f960d861e\">\n",
              "    <div class=\"colab-df-container\">\n",
              "      <div>\n",
              "<style scoped>\n",
              "    .dataframe tbody tr th:only-of-type {\n",
              "        vertical-align: middle;\n",
              "    }\n",
              "\n",
              "    .dataframe tbody tr th {\n",
              "        vertical-align: top;\n",
              "    }\n",
              "\n",
              "    .dataframe thead th {\n",
              "        text-align: right;\n",
              "    }\n",
              "</style>\n",
              "<table border=\"1\" class=\"dataframe\">\n",
              "  <thead>\n",
              "    <tr style=\"text-align: right;\">\n",
              "      <th></th>\n",
              "      <th>image_url</th>\n",
              "      <th>cleaned_text</th>\n",
              "    </tr>\n",
              "  </thead>\n",
              "  <tbody>\n",
              "    <tr>\n",
              "      <th>0</th>\n",
              "      <td>https://raw.githubusercontent.com/Chuwei-Chen/...</td>\n",
              "      <td>BABEYOU JUST DONT GET IT DO YA</td>\n",
              "    </tr>\n",
              "    <tr>\n",
              "      <th>1</th>\n",
              "      <td>https://raw.githubusercontent.com/Chuwei-Chen/...</td>\n",
              "      <td>Vex         dont crash the bordler    ...</td>\n",
              "    </tr>\n",
              "    <tr>\n",
              "      <th>2</th>\n",
              "      <td>https://raw.githubusercontent.com/Chuwei-Chen/...</td>\n",
              "      <td>WAIT YOURE HOW OLD         HAPPY BIRTH...</td>\n",
              "    </tr>\n",
              "    <tr>\n",
              "      <th>3</th>\n",
              "      <td>https://raw.githubusercontent.com/Chuwei-Chen/...</td>\n",
              "      <td>MY SEXY GIRLFRIEND         MAKES MESOO...</td>\n",
              "    </tr>\n",
              "    <tr>\n",
              "      <th>4</th>\n",
              "      <td>https://raw.githubusercontent.com/Chuwei-Chen/...</td>\n",
              "      <td>CONTRACT ON ME FROM         BABY GODFA...</td>\n",
              "    </tr>\n",
              "  </tbody>\n",
              "</table>\n",
              "</div>\n",
              "      <button class=\"colab-df-convert\" onclick=\"convertToInteractive('df-e4b32165-b5f3-4203-beb3-0b4f960d861e')\"\n",
              "              title=\"Convert this dataframe to an interactive table.\"\n",
              "              style=\"display:none;\">\n",
              "        \n",
              "  <svg xmlns=\"http://www.w3.org/2000/svg\" height=\"24px\"viewBox=\"0 0 24 24\"\n",
              "       width=\"24px\">\n",
              "    <path d=\"M0 0h24v24H0V0z\" fill=\"none\"/>\n",
              "    <path d=\"M18.56 5.44l.94 2.06.94-2.06 2.06-.94-2.06-.94-.94-2.06-.94 2.06-2.06.94zm-11 1L8.5 8.5l.94-2.06 2.06-.94-2.06-.94L8.5 2.5l-.94 2.06-2.06.94zm10 10l.94 2.06.94-2.06 2.06-.94-2.06-.94-.94-2.06-.94 2.06-2.06.94z\"/><path d=\"M17.41 7.96l-1.37-1.37c-.4-.4-.92-.59-1.43-.59-.52 0-1.04.2-1.43.59L10.3 9.45l-7.72 7.72c-.78.78-.78 2.05 0 2.83L4 21.41c.39.39.9.59 1.41.59.51 0 1.02-.2 1.41-.59l7.78-7.78 2.81-2.81c.8-.78.8-2.07 0-2.86zM5.41 20L4 18.59l7.72-7.72 1.47 1.35L5.41 20z\"/>\n",
              "  </svg>\n",
              "      </button>\n",
              "      \n",
              "  <style>\n",
              "    .colab-df-container {\n",
              "      display:flex;\n",
              "      flex-wrap:wrap;\n",
              "      gap: 12px;\n",
              "    }\n",
              "\n",
              "    .colab-df-convert {\n",
              "      background-color: #E8F0FE;\n",
              "      border: none;\n",
              "      border-radius: 50%;\n",
              "      cursor: pointer;\n",
              "      display: none;\n",
              "      fill: #1967D2;\n",
              "      height: 32px;\n",
              "      padding: 0 0 0 0;\n",
              "      width: 32px;\n",
              "    }\n",
              "\n",
              "    .colab-df-convert:hover {\n",
              "      background-color: #E2EBFA;\n",
              "      box-shadow: 0px 1px 2px rgba(60, 64, 67, 0.3), 0px 1px 3px 1px rgba(60, 64, 67, 0.15);\n",
              "      fill: #174EA6;\n",
              "    }\n",
              "\n",
              "    [theme=dark] .colab-df-convert {\n",
              "      background-color: #3B4455;\n",
              "      fill: #D2E3FC;\n",
              "    }\n",
              "\n",
              "    [theme=dark] .colab-df-convert:hover {\n",
              "      background-color: #434B5C;\n",
              "      box-shadow: 0px 1px 3px 1px rgba(0, 0, 0, 0.15);\n",
              "      filter: drop-shadow(0px 1px 2px rgba(0, 0, 0, 0.3));\n",
              "      fill: #FFFFFF;\n",
              "    }\n",
              "  </style>\n",
              "\n",
              "      <script>\n",
              "        const buttonEl =\n",
              "          document.querySelector('#df-e4b32165-b5f3-4203-beb3-0b4f960d861e button.colab-df-convert');\n",
              "        buttonEl.style.display =\n",
              "          google.colab.kernel.accessAllowed ? 'block' : 'none';\n",
              "\n",
              "        async function convertToInteractive(key) {\n",
              "          const element = document.querySelector('#df-e4b32165-b5f3-4203-beb3-0b4f960d861e');\n",
              "          const dataTable =\n",
              "            await google.colab.kernel.invokeFunction('convertToInteractive',\n",
              "                                                     [key], {});\n",
              "          if (!dataTable) return;\n",
              "\n",
              "          const docLinkHtml = 'Like what you see? Visit the ' +\n",
              "            '<a target=\"_blank\" href=https://colab.research.google.com/notebooks/data_table.ipynb>data table notebook</a>'\n",
              "            + ' to learn more about interactive tables.';\n",
              "          element.innerHTML = '';\n",
              "          dataTable['output_type'] = 'display_data';\n",
              "          await google.colab.output.renderOutput(dataTable, element);\n",
              "          const docLink = document.createElement('div');\n",
              "          docLink.innerHTML = docLinkHtml;\n",
              "          element.appendChild(docLink);\n",
              "        }\n",
              "      </script>\n",
              "    </div>\n",
              "  </div>\n",
              "  "
            ]
          },
          "metadata": {},
          "execution_count": 13
        }
      ]
    },
    {
      "cell_type": "markdown",
      "source": [
        "Although the resolutions of the meme images are usually low, the easyOCR algorithm has produced satisfactory results to extract the texts in memes. \n",
        "\n",
        "Now, I apply the same steps to process neutral memes dataset and positive memes dataset."
      ],
      "metadata": {
        "id": "l2Cs38kranqs"
      }
    },
    {
      "cell_type": "code",
      "source": [
        "# apply the function to the neutral memes dataframe\n",
        "neu_df['detected_text'] = neu_df['image_url'].apply(detect_text_in_image)\n",
        "\n",
        "###this takes about 3 min 45s"
      ],
      "metadata": {
        "id": "d1RrDUcaWhh9",
        "colab": {
          "base_uri": "https://localhost:8080/",
          "height": 206
        },
        "outputId": "12e960fb-b499-42b4-f47d-69a1ff79cb96"
      },
      "execution_count": 14,
      "outputs": [
        {
          "output_type": "execute_result",
          "data": {
            "text/plain": [
              "                                           image_url  \\\n",
              "0  https://raw.githubusercontent.com/Chuwei-Chen/...   \n",
              "1  https://raw.githubusercontent.com/Chuwei-Chen/...   \n",
              "2  https://raw.githubusercontent.com/Chuwei-Chen/...   \n",
              "3  https://raw.githubusercontent.com/Chuwei-Chen/...   \n",
              "4  https://raw.githubusercontent.com/Chuwei-Chen/...   \n",
              "\n",
              "                                       detected_text  \n",
              "0  [([[1, 199], [704, 199], [704, 271], [1, 271]]...  \n",
              "1  [([[642, 206], [871, 206], [871, 298], [642, 2...  \n",
              "2  [([[23, 27], [482, 27], [482, 80], [23, 80]], ...  \n",
              "3  [([[10, 172], [190, 172], [190, 200], [10, 200...  \n",
              "4  [([[39, 461], [539, 461], [539, 545], [39, 545...  "
            ],
            "text/html": [
              "\n",
              "  <div id=\"df-e73d12a9-a1d5-47ab-b1d5-9be7332a6db5\">\n",
              "    <div class=\"colab-df-container\">\n",
              "      <div>\n",
              "<style scoped>\n",
              "    .dataframe tbody tr th:only-of-type {\n",
              "        vertical-align: middle;\n",
              "    }\n",
              "\n",
              "    .dataframe tbody tr th {\n",
              "        vertical-align: top;\n",
              "    }\n",
              "\n",
              "    .dataframe thead th {\n",
              "        text-align: right;\n",
              "    }\n",
              "</style>\n",
              "<table border=\"1\" class=\"dataframe\">\n",
              "  <thead>\n",
              "    <tr style=\"text-align: right;\">\n",
              "      <th></th>\n",
              "      <th>image_url</th>\n",
              "      <th>detected_text</th>\n",
              "    </tr>\n",
              "  </thead>\n",
              "  <tbody>\n",
              "    <tr>\n",
              "      <th>0</th>\n",
              "      <td>https://raw.githubusercontent.com/Chuwei-Chen/...</td>\n",
              "      <td>[([[1, 199], [704, 199], [704, 271], [1, 271]]...</td>\n",
              "    </tr>\n",
              "    <tr>\n",
              "      <th>1</th>\n",
              "      <td>https://raw.githubusercontent.com/Chuwei-Chen/...</td>\n",
              "      <td>[([[642, 206], [871, 206], [871, 298], [642, 2...</td>\n",
              "    </tr>\n",
              "    <tr>\n",
              "      <th>2</th>\n",
              "      <td>https://raw.githubusercontent.com/Chuwei-Chen/...</td>\n",
              "      <td>[([[23, 27], [482, 27], [482, 80], [23, 80]], ...</td>\n",
              "    </tr>\n",
              "    <tr>\n",
              "      <th>3</th>\n",
              "      <td>https://raw.githubusercontent.com/Chuwei-Chen/...</td>\n",
              "      <td>[([[10, 172], [190, 172], [190, 200], [10, 200...</td>\n",
              "    </tr>\n",
              "    <tr>\n",
              "      <th>4</th>\n",
              "      <td>https://raw.githubusercontent.com/Chuwei-Chen/...</td>\n",
              "      <td>[([[39, 461], [539, 461], [539, 545], [39, 545...</td>\n",
              "    </tr>\n",
              "  </tbody>\n",
              "</table>\n",
              "</div>\n",
              "      <button class=\"colab-df-convert\" onclick=\"convertToInteractive('df-e73d12a9-a1d5-47ab-b1d5-9be7332a6db5')\"\n",
              "              title=\"Convert this dataframe to an interactive table.\"\n",
              "              style=\"display:none;\">\n",
              "        \n",
              "  <svg xmlns=\"http://www.w3.org/2000/svg\" height=\"24px\"viewBox=\"0 0 24 24\"\n",
              "       width=\"24px\">\n",
              "    <path d=\"M0 0h24v24H0V0z\" fill=\"none\"/>\n",
              "    <path d=\"M18.56 5.44l.94 2.06.94-2.06 2.06-.94-2.06-.94-.94-2.06-.94 2.06-2.06.94zm-11 1L8.5 8.5l.94-2.06 2.06-.94-2.06-.94L8.5 2.5l-.94 2.06-2.06.94zm10 10l.94 2.06.94-2.06 2.06-.94-2.06-.94-.94-2.06-.94 2.06-2.06.94z\"/><path d=\"M17.41 7.96l-1.37-1.37c-.4-.4-.92-.59-1.43-.59-.52 0-1.04.2-1.43.59L10.3 9.45l-7.72 7.72c-.78.78-.78 2.05 0 2.83L4 21.41c.39.39.9.59 1.41.59.51 0 1.02-.2 1.41-.59l7.78-7.78 2.81-2.81c.8-.78.8-2.07 0-2.86zM5.41 20L4 18.59l7.72-7.72 1.47 1.35L5.41 20z\"/>\n",
              "  </svg>\n",
              "      </button>\n",
              "      \n",
              "  <style>\n",
              "    .colab-df-container {\n",
              "      display:flex;\n",
              "      flex-wrap:wrap;\n",
              "      gap: 12px;\n",
              "    }\n",
              "\n",
              "    .colab-df-convert {\n",
              "      background-color: #E8F0FE;\n",
              "      border: none;\n",
              "      border-radius: 50%;\n",
              "      cursor: pointer;\n",
              "      display: none;\n",
              "      fill: #1967D2;\n",
              "      height: 32px;\n",
              "      padding: 0 0 0 0;\n",
              "      width: 32px;\n",
              "    }\n",
              "\n",
              "    .colab-df-convert:hover {\n",
              "      background-color: #E2EBFA;\n",
              "      box-shadow: 0px 1px 2px rgba(60, 64, 67, 0.3), 0px 1px 3px 1px rgba(60, 64, 67, 0.15);\n",
              "      fill: #174EA6;\n",
              "    }\n",
              "\n",
              "    [theme=dark] .colab-df-convert {\n",
              "      background-color: #3B4455;\n",
              "      fill: #D2E3FC;\n",
              "    }\n",
              "\n",
              "    [theme=dark] .colab-df-convert:hover {\n",
              "      background-color: #434B5C;\n",
              "      box-shadow: 0px 1px 3px 1px rgba(0, 0, 0, 0.15);\n",
              "      filter: drop-shadow(0px 1px 2px rgba(0, 0, 0, 0.3));\n",
              "      fill: #FFFFFF;\n",
              "    }\n",
              "  </style>\n",
              "\n",
              "      <script>\n",
              "        const buttonEl =\n",
              "          document.querySelector('#df-e73d12a9-a1d5-47ab-b1d5-9be7332a6db5 button.colab-df-convert');\n",
              "        buttonEl.style.display =\n",
              "          google.colab.kernel.accessAllowed ? 'block' : 'none';\n",
              "\n",
              "        async function convertToInteractive(key) {\n",
              "          const element = document.querySelector('#df-e73d12a9-a1d5-47ab-b1d5-9be7332a6db5');\n",
              "          const dataTable =\n",
              "            await google.colab.kernel.invokeFunction('convertToInteractive',\n",
              "                                                     [key], {});\n",
              "          if (!dataTable) return;\n",
              "\n",
              "          const docLinkHtml = 'Like what you see? Visit the ' +\n",
              "            '<a target=\"_blank\" href=https://colab.research.google.com/notebooks/data_table.ipynb>data table notebook</a>'\n",
              "            + ' to learn more about interactive tables.';\n",
              "          element.innerHTML = '';\n",
              "          dataTable['output_type'] = 'display_data';\n",
              "          await google.colab.output.renderOutput(dataTable, element);\n",
              "          const docLink = document.createElement('div');\n",
              "          docLink.innerHTML = docLinkHtml;\n",
              "          element.appendChild(docLink);\n",
              "        }\n",
              "      </script>\n",
              "    </div>\n",
              "  </div>\n",
              "  "
            ]
          },
          "metadata": {},
          "execution_count": 14
        }
      ]
    },
    {
      "cell_type": "code",
      "source": [
        "# clean the detected text and keep the texts only\n",
        "neu_df['cleaned_text'] = neu_df['detected_text'].apply(extract_text)\n",
        "\n",
        "neu_df.drop('detected_text', axis=1, inplace=True)\n",
        "\n",
        "neu_df.to_csv(\"neu_text_detect.csv\", index=False)\n",
        "    \n",
        "neu_df.head(5)"
      ],
      "metadata": {
        "colab": {
          "base_uri": "https://localhost:8080/",
          "height": 206
        },
        "id": "pb-Ecamg-Glf",
        "outputId": "5e113485-369b-4975-9984-3769b6b31a86"
      },
      "execution_count": 16,
      "outputs": [
        {
          "output_type": "execute_result",
          "data": {
            "text/plain": [
              "                                           image_url  \\\n",
              "0  https://raw.githubusercontent.com/Chuwei-Chen/...   \n",
              "1  https://raw.githubusercontent.com/Chuwei-Chen/...   \n",
              "2  https://raw.githubusercontent.com/Chuwei-Chen/...   \n",
              "3  https://raw.githubusercontent.com/Chuwei-Chen/...   \n",
              "4  https://raw.githubusercontent.com/Chuwei-Chen/...   \n",
              "\n",
              "                                        cleaned_text  \n",
              "0          Getting money with the same girl      ...  \n",
              "1          Hagrid         Not revealing         H...  \n",
              "2          Remember Shangai Noon         This is ...  \n",
              "3                                o Wr Igidai Sellle   \n",
              "4                      yup still fabulous         L   "
            ],
            "text/html": [
              "\n",
              "  <div id=\"df-5cbfed4f-4be7-4577-b711-d59f410b7c62\">\n",
              "    <div class=\"colab-df-container\">\n",
              "      <div>\n",
              "<style scoped>\n",
              "    .dataframe tbody tr th:only-of-type {\n",
              "        vertical-align: middle;\n",
              "    }\n",
              "\n",
              "    .dataframe tbody tr th {\n",
              "        vertical-align: top;\n",
              "    }\n",
              "\n",
              "    .dataframe thead th {\n",
              "        text-align: right;\n",
              "    }\n",
              "</style>\n",
              "<table border=\"1\" class=\"dataframe\">\n",
              "  <thead>\n",
              "    <tr style=\"text-align: right;\">\n",
              "      <th></th>\n",
              "      <th>image_url</th>\n",
              "      <th>cleaned_text</th>\n",
              "    </tr>\n",
              "  </thead>\n",
              "  <tbody>\n",
              "    <tr>\n",
              "      <th>0</th>\n",
              "      <td>https://raw.githubusercontent.com/Chuwei-Chen/...</td>\n",
              "      <td>Getting money with the same girl      ...</td>\n",
              "    </tr>\n",
              "    <tr>\n",
              "      <th>1</th>\n",
              "      <td>https://raw.githubusercontent.com/Chuwei-Chen/...</td>\n",
              "      <td>Hagrid         Not revealing         H...</td>\n",
              "    </tr>\n",
              "    <tr>\n",
              "      <th>2</th>\n",
              "      <td>https://raw.githubusercontent.com/Chuwei-Chen/...</td>\n",
              "      <td>Remember Shangai Noon         This is ...</td>\n",
              "    </tr>\n",
              "    <tr>\n",
              "      <th>3</th>\n",
              "      <td>https://raw.githubusercontent.com/Chuwei-Chen/...</td>\n",
              "      <td>o Wr Igidai Sellle</td>\n",
              "    </tr>\n",
              "    <tr>\n",
              "      <th>4</th>\n",
              "      <td>https://raw.githubusercontent.com/Chuwei-Chen/...</td>\n",
              "      <td>yup still fabulous         L</td>\n",
              "    </tr>\n",
              "  </tbody>\n",
              "</table>\n",
              "</div>\n",
              "      <button class=\"colab-df-convert\" onclick=\"convertToInteractive('df-5cbfed4f-4be7-4577-b711-d59f410b7c62')\"\n",
              "              title=\"Convert this dataframe to an interactive table.\"\n",
              "              style=\"display:none;\">\n",
              "        \n",
              "  <svg xmlns=\"http://www.w3.org/2000/svg\" height=\"24px\"viewBox=\"0 0 24 24\"\n",
              "       width=\"24px\">\n",
              "    <path d=\"M0 0h24v24H0V0z\" fill=\"none\"/>\n",
              "    <path d=\"M18.56 5.44l.94 2.06.94-2.06 2.06-.94-2.06-.94-.94-2.06-.94 2.06-2.06.94zm-11 1L8.5 8.5l.94-2.06 2.06-.94-2.06-.94L8.5 2.5l-.94 2.06-2.06.94zm10 10l.94 2.06.94-2.06 2.06-.94-2.06-.94-.94-2.06-.94 2.06-2.06.94z\"/><path d=\"M17.41 7.96l-1.37-1.37c-.4-.4-.92-.59-1.43-.59-.52 0-1.04.2-1.43.59L10.3 9.45l-7.72 7.72c-.78.78-.78 2.05 0 2.83L4 21.41c.39.39.9.59 1.41.59.51 0 1.02-.2 1.41-.59l7.78-7.78 2.81-2.81c.8-.78.8-2.07 0-2.86zM5.41 20L4 18.59l7.72-7.72 1.47 1.35L5.41 20z\"/>\n",
              "  </svg>\n",
              "      </button>\n",
              "      \n",
              "  <style>\n",
              "    .colab-df-container {\n",
              "      display:flex;\n",
              "      flex-wrap:wrap;\n",
              "      gap: 12px;\n",
              "    }\n",
              "\n",
              "    .colab-df-convert {\n",
              "      background-color: #E8F0FE;\n",
              "      border: none;\n",
              "      border-radius: 50%;\n",
              "      cursor: pointer;\n",
              "      display: none;\n",
              "      fill: #1967D2;\n",
              "      height: 32px;\n",
              "      padding: 0 0 0 0;\n",
              "      width: 32px;\n",
              "    }\n",
              "\n",
              "    .colab-df-convert:hover {\n",
              "      background-color: #E2EBFA;\n",
              "      box-shadow: 0px 1px 2px rgba(60, 64, 67, 0.3), 0px 1px 3px 1px rgba(60, 64, 67, 0.15);\n",
              "      fill: #174EA6;\n",
              "    }\n",
              "\n",
              "    [theme=dark] .colab-df-convert {\n",
              "      background-color: #3B4455;\n",
              "      fill: #D2E3FC;\n",
              "    }\n",
              "\n",
              "    [theme=dark] .colab-df-convert:hover {\n",
              "      background-color: #434B5C;\n",
              "      box-shadow: 0px 1px 3px 1px rgba(0, 0, 0, 0.15);\n",
              "      filter: drop-shadow(0px 1px 2px rgba(0, 0, 0, 0.3));\n",
              "      fill: #FFFFFF;\n",
              "    }\n",
              "  </style>\n",
              "\n",
              "      <script>\n",
              "        const buttonEl =\n",
              "          document.querySelector('#df-5cbfed4f-4be7-4577-b711-d59f410b7c62 button.colab-df-convert');\n",
              "        buttonEl.style.display =\n",
              "          google.colab.kernel.accessAllowed ? 'block' : 'none';\n",
              "\n",
              "        async function convertToInteractive(key) {\n",
              "          const element = document.querySelector('#df-5cbfed4f-4be7-4577-b711-d59f410b7c62');\n",
              "          const dataTable =\n",
              "            await google.colab.kernel.invokeFunction('convertToInteractive',\n",
              "                                                     [key], {});\n",
              "          if (!dataTable) return;\n",
              "\n",
              "          const docLinkHtml = 'Like what you see? Visit the ' +\n",
              "            '<a target=\"_blank\" href=https://colab.research.google.com/notebooks/data_table.ipynb>data table notebook</a>'\n",
              "            + ' to learn more about interactive tables.';\n",
              "          element.innerHTML = '';\n",
              "          dataTable['output_type'] = 'display_data';\n",
              "          await google.colab.output.renderOutput(dataTable, element);\n",
              "          const docLink = document.createElement('div');\n",
              "          docLink.innerHTML = docLinkHtml;\n",
              "          element.appendChild(docLink);\n",
              "        }\n",
              "      </script>\n",
              "    </div>\n",
              "  </div>\n",
              "  "
            ]
          },
          "metadata": {},
          "execution_count": 16
        }
      ]
    },
    {
      "cell_type": "code",
      "source": [
        "# apply the function to the positive memes dataframe\n",
        "pos_df['detected_text'] = pos_df['image_url'].apply(detect_text_in_image)\n",
        "\n",
        "###this takes about 3 min 52s"
      ],
      "metadata": {
        "id": "iWuWbZNsyQBx"
      },
      "execution_count": 17,
      "outputs": []
    },
    {
      "cell_type": "code",
      "source": [
        "# clean the detected text and keep the string only\n",
        "pos_df['cleaned_text'] = pos_df['detected_text'].apply(extract_text)\n",
        "\n",
        "pos_df.drop('detected_text', axis=1, inplace=True)\n",
        "\n",
        "pos_df.to_csv(\"pos_text_detect.csv\", index=False)\n",
        "    \n",
        "pos_df.head(5)"
      ],
      "metadata": {
        "colab": {
          "base_uri": "https://localhost:8080/",
          "height": 206
        },
        "id": "lVhcBIRo-nJU",
        "outputId": "4676e442-72c9-4880-c03e-525fdb0058a0"
      },
      "execution_count": 18,
      "outputs": [
        {
          "output_type": "execute_result",
          "data": {
            "text/plain": [
              "                                           image_url  \\\n",
              "0  https://raw.githubusercontent.com/Chuwei-Chen/...   \n",
              "1  https://raw.githubusercontent.com/Chuwei-Chen/...   \n",
              "2  https://raw.githubusercontent.com/Chuwei-Chen/...   \n",
              "3  https://raw.githubusercontent.com/Chuwei-Chen/...   \n",
              "4  https://raw.githubusercontent.com/Chuwei-Chen/...   \n",
              "\n",
              "                                        cleaned_text  \n",
              "0                        Datl  feeting their babies   \n",
              "1          me         telling a story         Doy...  \n",
              "2          Gene Wilder         Hands down the bes...  \n",
              "3           SEE YOU ARE         BAT SHIT         ...  \n",
              "4          when your boo is busy but you want all...  "
            ],
            "text/html": [
              "\n",
              "  <div id=\"df-980eff81-f0b6-4531-a308-a8152e4c12b5\">\n",
              "    <div class=\"colab-df-container\">\n",
              "      <div>\n",
              "<style scoped>\n",
              "    .dataframe tbody tr th:only-of-type {\n",
              "        vertical-align: middle;\n",
              "    }\n",
              "\n",
              "    .dataframe tbody tr th {\n",
              "        vertical-align: top;\n",
              "    }\n",
              "\n",
              "    .dataframe thead th {\n",
              "        text-align: right;\n",
              "    }\n",
              "</style>\n",
              "<table border=\"1\" class=\"dataframe\">\n",
              "  <thead>\n",
              "    <tr style=\"text-align: right;\">\n",
              "      <th></th>\n",
              "      <th>image_url</th>\n",
              "      <th>cleaned_text</th>\n",
              "    </tr>\n",
              "  </thead>\n",
              "  <tbody>\n",
              "    <tr>\n",
              "      <th>0</th>\n",
              "      <td>https://raw.githubusercontent.com/Chuwei-Chen/...</td>\n",
              "      <td>Datl  feeting their babies</td>\n",
              "    </tr>\n",
              "    <tr>\n",
              "      <th>1</th>\n",
              "      <td>https://raw.githubusercontent.com/Chuwei-Chen/...</td>\n",
              "      <td>me         telling a story         Doy...</td>\n",
              "    </tr>\n",
              "    <tr>\n",
              "      <th>2</th>\n",
              "      <td>https://raw.githubusercontent.com/Chuwei-Chen/...</td>\n",
              "      <td>Gene Wilder         Hands down the bes...</td>\n",
              "    </tr>\n",
              "    <tr>\n",
              "      <th>3</th>\n",
              "      <td>https://raw.githubusercontent.com/Chuwei-Chen/...</td>\n",
              "      <td>SEE YOU ARE         BAT SHIT         ...</td>\n",
              "    </tr>\n",
              "    <tr>\n",
              "      <th>4</th>\n",
              "      <td>https://raw.githubusercontent.com/Chuwei-Chen/...</td>\n",
              "      <td>when your boo is busy but you want all...</td>\n",
              "    </tr>\n",
              "  </tbody>\n",
              "</table>\n",
              "</div>\n",
              "      <button class=\"colab-df-convert\" onclick=\"convertToInteractive('df-980eff81-f0b6-4531-a308-a8152e4c12b5')\"\n",
              "              title=\"Convert this dataframe to an interactive table.\"\n",
              "              style=\"display:none;\">\n",
              "        \n",
              "  <svg xmlns=\"http://www.w3.org/2000/svg\" height=\"24px\"viewBox=\"0 0 24 24\"\n",
              "       width=\"24px\">\n",
              "    <path d=\"M0 0h24v24H0V0z\" fill=\"none\"/>\n",
              "    <path d=\"M18.56 5.44l.94 2.06.94-2.06 2.06-.94-2.06-.94-.94-2.06-.94 2.06-2.06.94zm-11 1L8.5 8.5l.94-2.06 2.06-.94-2.06-.94L8.5 2.5l-.94 2.06-2.06.94zm10 10l.94 2.06.94-2.06 2.06-.94-2.06-.94-.94-2.06-.94 2.06-2.06.94z\"/><path d=\"M17.41 7.96l-1.37-1.37c-.4-.4-.92-.59-1.43-.59-.52 0-1.04.2-1.43.59L10.3 9.45l-7.72 7.72c-.78.78-.78 2.05 0 2.83L4 21.41c.39.39.9.59 1.41.59.51 0 1.02-.2 1.41-.59l7.78-7.78 2.81-2.81c.8-.78.8-2.07 0-2.86zM5.41 20L4 18.59l7.72-7.72 1.47 1.35L5.41 20z\"/>\n",
              "  </svg>\n",
              "      </button>\n",
              "      \n",
              "  <style>\n",
              "    .colab-df-container {\n",
              "      display:flex;\n",
              "      flex-wrap:wrap;\n",
              "      gap: 12px;\n",
              "    }\n",
              "\n",
              "    .colab-df-convert {\n",
              "      background-color: #E8F0FE;\n",
              "      border: none;\n",
              "      border-radius: 50%;\n",
              "      cursor: pointer;\n",
              "      display: none;\n",
              "      fill: #1967D2;\n",
              "      height: 32px;\n",
              "      padding: 0 0 0 0;\n",
              "      width: 32px;\n",
              "    }\n",
              "\n",
              "    .colab-df-convert:hover {\n",
              "      background-color: #E2EBFA;\n",
              "      box-shadow: 0px 1px 2px rgba(60, 64, 67, 0.3), 0px 1px 3px 1px rgba(60, 64, 67, 0.15);\n",
              "      fill: #174EA6;\n",
              "    }\n",
              "\n",
              "    [theme=dark] .colab-df-convert {\n",
              "      background-color: #3B4455;\n",
              "      fill: #D2E3FC;\n",
              "    }\n",
              "\n",
              "    [theme=dark] .colab-df-convert:hover {\n",
              "      background-color: #434B5C;\n",
              "      box-shadow: 0px 1px 3px 1px rgba(0, 0, 0, 0.15);\n",
              "      filter: drop-shadow(0px 1px 2px rgba(0, 0, 0, 0.3));\n",
              "      fill: #FFFFFF;\n",
              "    }\n",
              "  </style>\n",
              "\n",
              "      <script>\n",
              "        const buttonEl =\n",
              "          document.querySelector('#df-980eff81-f0b6-4531-a308-a8152e4c12b5 button.colab-df-convert');\n",
              "        buttonEl.style.display =\n",
              "          google.colab.kernel.accessAllowed ? 'block' : 'none';\n",
              "\n",
              "        async function convertToInteractive(key) {\n",
              "          const element = document.querySelector('#df-980eff81-f0b6-4531-a308-a8152e4c12b5');\n",
              "          const dataTable =\n",
              "            await google.colab.kernel.invokeFunction('convertToInteractive',\n",
              "                                                     [key], {});\n",
              "          if (!dataTable) return;\n",
              "\n",
              "          const docLinkHtml = 'Like what you see? Visit the ' +\n",
              "            '<a target=\"_blank\" href=https://colab.research.google.com/notebooks/data_table.ipynb>data table notebook</a>'\n",
              "            + ' to learn more about interactive tables.';\n",
              "          element.innerHTML = '';\n",
              "          dataTable['output_type'] = 'display_data';\n",
              "          await google.colab.output.renderOutput(dataTable, element);\n",
              "          const docLink = document.createElement('div');\n",
              "          docLink.innerHTML = docLinkHtml;\n",
              "          element.appendChild(docLink);\n",
              "        }\n",
              "      </script>\n",
              "    </div>\n",
              "  </div>\n",
              "  "
            ]
          },
          "metadata": {},
          "execution_count": 18
        }
      ]
    },
    {
      "cell_type": "markdown",
      "source": [
        "The project has successfully completed the text extraction process for all 90 memes. The cleaned text data has been saved to seperate CSV files. Although these texts could be applied for further sentiment analysis, we will not pursue that goal in this particular project."
      ],
      "metadata": {
        "id": "_frGwCDl-ysg"
      }
    },
    {
      "cell_type": "markdown",
      "source": [
        "# Object Detection"
      ],
      "metadata": {
        "id": "UKnZp4FbNWFD"
      }
    },
    {
      "cell_type": "markdown",
      "source": [
        "The second step is to perform object detection model from transformers. The transformers model will detect objects in each image and give the name of each detected object. Finally the results will be stored in dataframes."
      ],
      "metadata": {
        "id": "E9NZXTGm0Rcv"
      }
    },
    {
      "cell_type": "code",
      "source": [
        "#load transformers models\n",
        "!pip install -q transformers\n",
        "!pip install -q timm\n",
        "from transformers import pipeline\n",
        "model = pipeline(\"object-detection\")"
      ],
      "metadata": {
        "colab": {
          "base_uri": "https://localhost:8080/"
        },
        "id": "iZPZAPK9UVpy",
        "outputId": "f3d7ec22-113e-470b-ef1e-e37c120fd65a"
      },
      "execution_count": 19,
      "outputs": [
        {
          "output_type": "stream",
          "name": "stderr",
          "text": [
            "No model was supplied, defaulted to facebook/detr-resnet-50 and revision 2729413 (https://huggingface.co/facebook/detr-resnet-50).\n",
            "Using a pipeline without specifying a model name and revision in production is not recommended.\n",
            "/usr/local/lib/python3.8/dist-packages/transformers/models/detr/feature_extraction_detr.py:28: FutureWarning: The class DetrFeatureExtractor is deprecated and will be removed in version 5 of Transformers. Please use DetrImageProcessor instead.\n",
            "  warnings.warn(\n",
            "/usr/local/lib/python3.8/dist-packages/transformers/models/detr/image_processing_detr.py:776: FutureWarning: The `max_size` parameter is deprecated and will be removed in v4.26. Please specify in `size['longest_edge'] instead`.\n",
            "  warnings.warn(\n"
          ]
        }
      ]
    },
    {
      "cell_type": "code",
      "source": [
        "#apply object detection model to all datasets\n",
        "\n",
        "import glob\n",
        "\n",
        "#apply object detection model to negative memes dataset\n",
        "rows_list_neg = []\n",
        "for img in sorted(glob.glob('negative_memes/image_*.jpg')):\n",
        "  dict1 = {}\n",
        "  res = model(img)\n",
        "  dict1.update({\"image\": img, \"result\": res})\n",
        "  rows_list_neg.append(dict1)\n",
        "\n",
        "neg_object_detect= pd.DataFrame(rows_list_neg)\n",
        "#This process takes about 2m 54s"
      ],
      "metadata": {
        "id": "AaGBrZHD4YTb"
      },
      "execution_count": 20,
      "outputs": []
    },
    {
      "cell_type": "code",
      "source": [
        "rows_list_neg2 = []\n",
        "for index, row in neg_object_detect.iterrows():\n",
        "  for i in row.result:\n",
        "    dict1 = {}\n",
        "    dict1.update({\"image\":row.image})\n",
        "    dict1.update(i)\n",
        "    rows_list_neg2.append(dict1)\n",
        "\n",
        "neg_df_res = pd.DataFrame(rows_list_neg2)"
      ],
      "metadata": {
        "id": "khKnNOPY4wiN"
      },
      "execution_count": 21,
      "outputs": []
    },
    {
      "cell_type": "code",
      "source": [
        "#apply object detection to neutral memes dataset\n",
        "rows_list_neu = []\n",
        "for img in sorted(glob.glob('neutral_memes/image_*.jpg')):\n",
        "  dict1 = {}\n",
        "  res = model(img)\n",
        "  dict1.update({\"image\": img, \"result\": res})\n",
        "  rows_list_neu.append(dict1)\n",
        "\n",
        "neu_object_detect= pd.DataFrame(rows_list_neu)\n",
        "#This process takes about 2m12s"
      ],
      "metadata": {
        "id": "NfrSeTWWDLVe"
      },
      "execution_count": 24,
      "outputs": []
    },
    {
      "cell_type": "code",
      "source": [
        "rows_list_neu_2 = []\n",
        "for index, row in neu_object_detect.iterrows():\n",
        "  for i in row.result:\n",
        "    dict1 = {}\n",
        "    dict1.update({\"image\":row.image})\n",
        "    dict1.update(i)\n",
        "    rows_list_neu_2.append(dict1)\n",
        "\n",
        "neu_df_res = pd.DataFrame(rows_list_neu_2)"
      ],
      "metadata": {
        "id": "yiiHonMcDvKm"
      },
      "execution_count": 33,
      "outputs": []
    },
    {
      "cell_type": "code",
      "source": [
        "#apply object detection to positive memes dataset\n",
        "rows_list_pos = []\n",
        "for img in sorted(glob.glob('positive_memes/image_*.jpg')):\n",
        "  dict1 = {}\n",
        "  res = model(img)\n",
        "  dict1.update({\"image\": img, \"result\": res})\n",
        "  rows_list_pos.append(dict1)\n",
        "\n",
        "pos_object_detect= pd.DataFrame(rows_list_pos)"
      ],
      "metadata": {
        "id": "tB2IYLTTDb1m"
      },
      "execution_count": 28,
      "outputs": []
    },
    {
      "cell_type": "code",
      "source": [
        "rows_list_pos_2 = []\n",
        "for index, row in pos_object_detect.iterrows():\n",
        "  for i in row.result:\n",
        "    dict1 = {}\n",
        "    dict1.update({\"image\":row.image})\n",
        "    dict1.update(i)\n",
        "    rows_list_pos_2.append(dict1)\n",
        "\n",
        "pos_df_res = pd.DataFrame(rows_list_pos_2)\n",
        "pos_df_res.head()"
      ],
      "metadata": {
        "id": "2c8toh4NDv1f",
        "colab": {
          "base_uri": "https://localhost:8080/",
          "height": 206
        },
        "outputId": "7350e7ea-b123-4b1f-df45-765b18035bf1"
      },
      "execution_count": 34,
      "outputs": [
        {
          "output_type": "execute_result",
          "data": {
            "text/plain": [
              "                        image     score   label  \\\n",
              "0  positive_memes/image_0.jpg  0.942091  person   \n",
              "1  positive_memes/image_0.jpg  0.948107     cup   \n",
              "2  positive_memes/image_0.jpg  0.977744  person   \n",
              "3  positive_memes/image_0.jpg  0.960846  person   \n",
              "4  positive_memes/image_1.jpg  0.995725  person   \n",
              "\n",
              "                                                 box  \n",
              "0  {'xmin': 142, 'ymin': 107, 'xmax': 191, 'ymax'...  \n",
              "1  {'xmin': 159, 'ymin': 112, 'xmax': 176, 'ymax'...  \n",
              "2  {'xmin': 29, 'ymin': 34, 'xmax': 125, 'ymax': ...  \n",
              "3  {'xmin': 66, 'ymin': 59, 'xmax': 199, 'ymax': ...  \n",
              "4  {'xmin': 30, 'ymin': 184, 'xmax': 150, 'ymax':...  "
            ],
            "text/html": [
              "\n",
              "  <div id=\"df-29f31cc8-2937-452e-9665-16460f9bb594\">\n",
              "    <div class=\"colab-df-container\">\n",
              "      <div>\n",
              "<style scoped>\n",
              "    .dataframe tbody tr th:only-of-type {\n",
              "        vertical-align: middle;\n",
              "    }\n",
              "\n",
              "    .dataframe tbody tr th {\n",
              "        vertical-align: top;\n",
              "    }\n",
              "\n",
              "    .dataframe thead th {\n",
              "        text-align: right;\n",
              "    }\n",
              "</style>\n",
              "<table border=\"1\" class=\"dataframe\">\n",
              "  <thead>\n",
              "    <tr style=\"text-align: right;\">\n",
              "      <th></th>\n",
              "      <th>image</th>\n",
              "      <th>score</th>\n",
              "      <th>label</th>\n",
              "      <th>box</th>\n",
              "    </tr>\n",
              "  </thead>\n",
              "  <tbody>\n",
              "    <tr>\n",
              "      <th>0</th>\n",
              "      <td>positive_memes/image_0.jpg</td>\n",
              "      <td>0.942091</td>\n",
              "      <td>person</td>\n",
              "      <td>{'xmin': 142, 'ymin': 107, 'xmax': 191, 'ymax'...</td>\n",
              "    </tr>\n",
              "    <tr>\n",
              "      <th>1</th>\n",
              "      <td>positive_memes/image_0.jpg</td>\n",
              "      <td>0.948107</td>\n",
              "      <td>cup</td>\n",
              "      <td>{'xmin': 159, 'ymin': 112, 'xmax': 176, 'ymax'...</td>\n",
              "    </tr>\n",
              "    <tr>\n",
              "      <th>2</th>\n",
              "      <td>positive_memes/image_0.jpg</td>\n",
              "      <td>0.977744</td>\n",
              "      <td>person</td>\n",
              "      <td>{'xmin': 29, 'ymin': 34, 'xmax': 125, 'ymax': ...</td>\n",
              "    </tr>\n",
              "    <tr>\n",
              "      <th>3</th>\n",
              "      <td>positive_memes/image_0.jpg</td>\n",
              "      <td>0.960846</td>\n",
              "      <td>person</td>\n",
              "      <td>{'xmin': 66, 'ymin': 59, 'xmax': 199, 'ymax': ...</td>\n",
              "    </tr>\n",
              "    <tr>\n",
              "      <th>4</th>\n",
              "      <td>positive_memes/image_1.jpg</td>\n",
              "      <td>0.995725</td>\n",
              "      <td>person</td>\n",
              "      <td>{'xmin': 30, 'ymin': 184, 'xmax': 150, 'ymax':...</td>\n",
              "    </tr>\n",
              "  </tbody>\n",
              "</table>\n",
              "</div>\n",
              "      <button class=\"colab-df-convert\" onclick=\"convertToInteractive('df-29f31cc8-2937-452e-9665-16460f9bb594')\"\n",
              "              title=\"Convert this dataframe to an interactive table.\"\n",
              "              style=\"display:none;\">\n",
              "        \n",
              "  <svg xmlns=\"http://www.w3.org/2000/svg\" height=\"24px\"viewBox=\"0 0 24 24\"\n",
              "       width=\"24px\">\n",
              "    <path d=\"M0 0h24v24H0V0z\" fill=\"none\"/>\n",
              "    <path d=\"M18.56 5.44l.94 2.06.94-2.06 2.06-.94-2.06-.94-.94-2.06-.94 2.06-2.06.94zm-11 1L8.5 8.5l.94-2.06 2.06-.94-2.06-.94L8.5 2.5l-.94 2.06-2.06.94zm10 10l.94 2.06.94-2.06 2.06-.94-2.06-.94-.94-2.06-.94 2.06-2.06.94z\"/><path d=\"M17.41 7.96l-1.37-1.37c-.4-.4-.92-.59-1.43-.59-.52 0-1.04.2-1.43.59L10.3 9.45l-7.72 7.72c-.78.78-.78 2.05 0 2.83L4 21.41c.39.39.9.59 1.41.59.51 0 1.02-.2 1.41-.59l7.78-7.78 2.81-2.81c.8-.78.8-2.07 0-2.86zM5.41 20L4 18.59l7.72-7.72 1.47 1.35L5.41 20z\"/>\n",
              "  </svg>\n",
              "      </button>\n",
              "      \n",
              "  <style>\n",
              "    .colab-df-container {\n",
              "      display:flex;\n",
              "      flex-wrap:wrap;\n",
              "      gap: 12px;\n",
              "    }\n",
              "\n",
              "    .colab-df-convert {\n",
              "      background-color: #E8F0FE;\n",
              "      border: none;\n",
              "      border-radius: 50%;\n",
              "      cursor: pointer;\n",
              "      display: none;\n",
              "      fill: #1967D2;\n",
              "      height: 32px;\n",
              "      padding: 0 0 0 0;\n",
              "      width: 32px;\n",
              "    }\n",
              "\n",
              "    .colab-df-convert:hover {\n",
              "      background-color: #E2EBFA;\n",
              "      box-shadow: 0px 1px 2px rgba(60, 64, 67, 0.3), 0px 1px 3px 1px rgba(60, 64, 67, 0.15);\n",
              "      fill: #174EA6;\n",
              "    }\n",
              "\n",
              "    [theme=dark] .colab-df-convert {\n",
              "      background-color: #3B4455;\n",
              "      fill: #D2E3FC;\n",
              "    }\n",
              "\n",
              "    [theme=dark] .colab-df-convert:hover {\n",
              "      background-color: #434B5C;\n",
              "      box-shadow: 0px 1px 3px 1px rgba(0, 0, 0, 0.15);\n",
              "      filter: drop-shadow(0px 1px 2px rgba(0, 0, 0, 0.3));\n",
              "      fill: #FFFFFF;\n",
              "    }\n",
              "  </style>\n",
              "\n",
              "      <script>\n",
              "        const buttonEl =\n",
              "          document.querySelector('#df-29f31cc8-2937-452e-9665-16460f9bb594 button.colab-df-convert');\n",
              "        buttonEl.style.display =\n",
              "          google.colab.kernel.accessAllowed ? 'block' : 'none';\n",
              "\n",
              "        async function convertToInteractive(key) {\n",
              "          const element = document.querySelector('#df-29f31cc8-2937-452e-9665-16460f9bb594');\n",
              "          const dataTable =\n",
              "            await google.colab.kernel.invokeFunction('convertToInteractive',\n",
              "                                                     [key], {});\n",
              "          if (!dataTable) return;\n",
              "\n",
              "          const docLinkHtml = 'Like what you see? Visit the ' +\n",
              "            '<a target=\"_blank\" href=https://colab.research.google.com/notebooks/data_table.ipynb>data table notebook</a>'\n",
              "            + ' to learn more about interactive tables.';\n",
              "          element.innerHTML = '';\n",
              "          dataTable['output_type'] = 'display_data';\n",
              "          await google.colab.output.renderOutput(dataTable, element);\n",
              "          const docLink = document.createElement('div');\n",
              "          docLink.innerHTML = docLinkHtml;\n",
              "          element.appendChild(docLink);\n",
              "        }\n",
              "      </script>\n",
              "    </div>\n",
              "  </div>\n",
              "  "
            ]
          },
          "metadata": {},
          "execution_count": 34
        }
      ]
    },
    {
      "cell_type": "markdown",
      "source": [
        "##Visualization"
      ],
      "metadata": {
        "id": "CghVtfbQpSXj"
      }
    },
    {
      "cell_type": "markdown",
      "source": [
        "Next, I visualize the results from the object detections to see if there exists differences acorss three categories of memes."
      ],
      "metadata": {
        "id": "Wa-AhQMG0aWe"
      }
    },
    {
      "cell_type": "code",
      "source": [
        "#produce a bar chart for object detection of negative memes\n",
        "neg_df_res.label.value_counts().plot(kind='bar')"
      ],
      "metadata": {
        "colab": {
          "base_uri": "https://localhost:8080/",
          "height": 325
        },
        "id": "JRlTbXBH41ir",
        "outputId": "a28477b3-0a10-47d6-e501-c2f9b956d5bf"
      },
      "execution_count": 22,
      "outputs": [
        {
          "output_type": "execute_result",
          "data": {
            "text/plain": [
              "<matplotlib.axes._subplots.AxesSubplot at 0x7f0ee6ead640>"
            ]
          },
          "metadata": {},
          "execution_count": 22
        },
        {
          "output_type": "display_data",
          "data": {
            "text/plain": [
              "<Figure size 432x288 with 1 Axes>"
            ],
            "image/png": "[encoded data removed]"
          },
          "metadata": {
            "needs_background": "light"
          }
        }
      ]
    },
    {
      "cell_type": "code",
      "source": [
        "#produce a bar chart for object detection of neutral memes\n",
        "neu_df_res.label.value_counts().plot(kind='bar')"
      ],
      "metadata": {
        "colab": {
          "base_uri": "https://localhost:8080/",
          "height": 316
        },
        "id": "GUxZGsEMhsAY",
        "outputId": "1387c33e-d4b5-44e3-f18d-0928cea506ce"
      },
      "execution_count": 35,
      "outputs": [
        {
          "output_type": "execute_result",
          "data": {
            "text/plain": [
              "<matplotlib.axes._subplots.AxesSubplot at 0x7f0ee56e8310>"
            ]
          },
          "metadata": {},
          "execution_count": 35
        },
        {
          "output_type": "display_data",
          "data": {
            "text/plain": [
              "<Figure size 432x288 with 1 Axes>"
            ],
            "image/png": "[encoded data removed]"
          },
          "metadata": {
            "needs_background": "light"
          }
        }
      ]
    },
    {
      "cell_type": "code",
      "source": [
        "#produce a bar chart for object detection of positive memes\n",
        "pos_df_res.label.value_counts().plot(kind='bar')"
      ],
      "metadata": {
        "id": "QB4IJs47D1EG",
        "colab": {
          "base_uri": "https://localhost:8080/",
          "height": 345
        },
        "outputId": "6a2594d2-2ddb-456b-cda0-4b639aaeaf89"
      },
      "execution_count": 36,
      "outputs": [
        {
          "output_type": "execute_result",
          "data": {
            "text/plain": [
              "<matplotlib.axes._subplots.AxesSubplot at 0x7f0ee56279d0>"
            ]
          },
          "metadata": {},
          "execution_count": 36
        },
        {
          "output_type": "display_data",
          "data": {
            "text/plain": [
              "<Figure size 432x288 with 1 Axes>"
            ],
            "image/png": "[encoded data removed]"
          },
          "metadata": {
            "needs_background": "light"
          }
        }
      ]
    },
    {
      "cell_type": "markdown",
      "source": [
        "The three bar graphs demonstrate that the most frequent objects detected are \"person\". This can be explained as the most common internet memes consist of human portraits or figures. Animals like cats and dogs are also common content in memes.\n"
      ],
      "metadata": {
        "id": "uhwTTd-NggIm"
      }
    },
    {
      "cell_type": "code",
      "source": [
        "#Use opencv to visualize and draw the bounding box for the objects\n",
        "import cv2\n",
        "\n",
        "img = cv2.imread('negative_memes/image_0.jpg')\n",
        "for index,row in neg_df_res[neg_df_res.image==\"negative_memes/image_0.jpg\"].iterrows():\n",
        "  x1,y1,x2,y2 = list(row.box.values())\n",
        "  cv2.rectangle(img, (x1, y1), (x2, y2), (0, 255, 0), 2)\n",
        "\n",
        "from google.colab.patches import cv2_imshow\n",
        "cv2_imshow(img)\n",
        "\n",
        "model(\"negative_memes/image_0.jpg\")"
      ],
      "metadata": {
        "colab": {
          "base_uri": "https://localhost:8080/",
          "height": 576
        },
        "id": "8B7KQYFwhqd3",
        "outputId": "d5c4b429-ab0c-4da6-c523-5cb5b1dcc2be"
      },
      "execution_count": 38,
      "outputs": [
        {
          "output_type": "display_data",
          "data": {
            "text/plain": [
              "<PIL.Image.Image image mode=RGB size=625x351 at 0x7F0EE5253FD0>"
            ],
            "image/png": "[encoded data removed]"
          },
          "metadata": {}
        },
        {
          "output_type": "execute_result",
          "data": {
            "text/plain": [
              "[{'score': 0.9990241527557373,\n",
              "  'label': 'wine glass',\n",
              "  'box': {'xmin': 242, 'ymin': 232, 'xmax': 291, 'ymax': 342}},\n",
              " {'score': 0.995256245136261,\n",
              "  'label': 'person',\n",
              "  'box': {'xmin': 446, 'ymin': 31, 'xmax': 622, 'ymax': 346}},\n",
              " {'score': 0.9993782043457031,\n",
              "  'label': 'person',\n",
              "  'box': {'xmin': 71, 'ymin': 32, 'xmax': 363, 'ymax': 347}},\n",
              " {'score': 0.9644070267677307,\n",
              "  'label': 'wine glass',\n",
              "  'box': {'xmin': 48, 'ymin': 222, 'xmax': 86, 'ymax': 336}}]"
            ]
          },
          "metadata": {},
          "execution_count": 38
        }
      ]
    },
    {
      "cell_type": "markdown",
      "source": [
        "# Discussions"
      ],
      "metadata": {
        "id": "hEmGauCGNdX8"
      }
    },
    {
      "cell_type": "markdown",
      "source": [
        "In this project, I used easyOCR libraries to perform text detection and transformers model for object detection and analyze three categories of memes in a total number of 90 images. \n",
        "\n",
        "The easyOCR algorithms has demonstrated the effectiveness and precision in simple text detecting for images. The results can serve as a dataset for further sentiment analysis and comparison with human-labelled sentiments.\n",
        "\n",
        "The transformers object detection model effectively identified \"person\" as the most frequent object element in the memes. The outcome is not surprising, but if we add more image data, we may obtain a more diverse range of results. One possible explanation of why \"person\" becomes the most common object in memes could be celebrity effect. For example, people created memes using the parodies of some political figures like Putin, Trump, and Obama. Famous people may bring more popularity and accelerate the spread of memes.\n",
        "\n",
        "In terms of detecting emotions in memes, it is not sufficient to perform single model to identify the sentiments or humor types. Instead, it requires more complicated algorithms and language model training. At times, understanding a meme requires a textual context, which could be challenging for computers to identify."
      ],
      "metadata": {
        "id": "ufoGljJFOWm0"
      }
    },
    {
      "cell_type": "markdown",
      "source": [
        "#References\n",
        "- Courtois, C., & Frissen, T. (2022). Computer Vision and Internet Meme Genealogy: An Evaluation of Image Feature Matching as a Technique for Pattern Detection. In Communication Methods and Measures (pp. 1–23). Informa UK Limited. https://doi.org/10.1080/19312458.2022.2122423\n",
        "- Shifman, L. (2014). Memes in digital culture. MIT Press.\n",
        "- Szeliski, R. (2010). Computer vision algorithms and applications. Springer Science & Business Media.\n",
        "- Williams, S. et al. (2021). Memotion dataset 7k. Kaggle. https://www.kaggle.com/datasets/williamscott701/memotion-dataset-7k"
      ],
      "metadata": {
        "id": "zm3ooa5fEEvl"
      }
    }
  ]
}